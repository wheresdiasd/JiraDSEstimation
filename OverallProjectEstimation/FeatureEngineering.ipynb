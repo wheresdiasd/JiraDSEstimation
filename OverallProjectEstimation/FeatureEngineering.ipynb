{
 "cells": [
  {
   "cell_type": "code",
   "execution_count": null,
   "metadata": {},
   "outputs": [
    {
     "name": "stdout",
     "output_type": "stream",
     "text": [
      "\n",
      "Processing repository: MongoDB ...\n",
      "Found 137172 total issues in 'MongoDB'. Processing in batches of 500...\n",
      "Using fixed maximum of 2000 records. Will retrieve 2000 issues.\n"
     ]
    }
   ],
   "source": [
    "import os\n",
    "import pandas as pd\n",
    "import dtale\n",
    "import sys, os\n",
    "project_root = os.path.abspath(\"..\")  # adjust based on your directory structure\n",
    "if project_root not in sys.path:\n",
    "    sys.path.append(project_root)\n",
    "    \n",
    "from FeatureCleaning.CleanDSDTale import export_clean_df\n",
    "\n",
    "\n",
    "def main():\n",
    "    \n",
    "    # 1. Load the cleaned issue-level DataFrame\n",
    "    df = export_clean_df()\n",
    "    \n",
    "    # 2. Compute time-to-resolution in hours\n",
    "    df['time_to_resolution'] = (\n",
    "        pd.to_datetime(df['fields.resolutiondate']) - \n",
    "        pd.to_datetime(df['fields.created'])\n",
    "    ).dt.total_seconds() / 3600  # in hours\n",
    "\n",
    "    item_counts_per_project = df.groupby(\"fields.project.id\").size().reset_index(name=\"item_count\")\n",
    "\n",
    "    # 3. Aggregate overall project-level features (transformations and mean/median values)\n",
    "    agg_df = df.groupby(['fields.project.id', 'fields.project.name']).agg({\n",
    "        'time_to_resolution': ['mean', 'median', 'min', 'max', 'sum'],\n",
    "        'changelog_count_status': ['sum', 'mean'],\n",
    "        'changelog_count_assignee': ['sum', 'mean'],\n",
    "        'comment_count': ['sum', 'mean'],\n",
    "    }).reset_index()\n",
    "    \n",
    "    # Flatten the MultiIndex columns\n",
    "    agg_df.columns = [\n",
    "        '_'.join(col).strip() if col[1] else col[0]\n",
    "        for col in agg_df.columns.values\n",
    "    ]\n",
    "\n",
    "    df = pd.merge(agg_df, item_counts_per_project, on=\"fields.project.id\", how=\"left\")\n",
    "    \n",
    "    # 6. Optionally display the final DataFrame using D-Tale for interactive exploration\n",
    "    print(df.head())\n",
    "    d = dtale.show(df, ignore_duplicate=True, allow_cell_edits=False)\n",
    "    d.open_browser()\n",
    "\n",
    "if __name__ == \"__main__\":\n",
    "    main()"
   ]
  }
 ],
 "metadata": {
  "kernelspec": {
   "display_name": "my_mongo_env",
   "language": "python",
   "name": "python3"
  },
  "language_info": {
   "codemirror_mode": {
    "name": "ipython",
    "version": 3
   },
   "file_extension": ".py",
   "mimetype": "text/x-python",
   "name": "python",
   "nbconvert_exporter": "python",
   "pygments_lexer": "ipython3",
   "version": "3.9.18"
  }
 },
 "nbformat": 4,
 "nbformat_minor": 2
}
